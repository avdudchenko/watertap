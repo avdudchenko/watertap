{
 "cells": [
  {
   "cell_type": "markdown",
   "metadata": {},
   "source": [
    "# Tutorial on customizing unit models in WatertAP\n",
    "Demonstration how to modify existing unit models at flowsheet level\n",
    "\n",
    "## Dependencies\n",
    "* Python - Programming language\n",
    "* Pyomo - Python package for equation-oriented modeling\n",
    "* IDAES - Python package extending Pyomo for flowsheet modeling\n",
    "* WaterTAP - Unit models"
   ]
  },
  {
   "cell_type": "markdown",
   "metadata": {},
   "source": [
    "## Demonstration structure \n",
    "* Setting up basic RO flowsheet\n",
    "* Replace a fixed variable with an equation\n",
    "* Replace existing constraint with a new one for compartive analysis  "
   ]
  },
  {
   "cell_type": "markdown",
   "metadata": {},
   "source": [
    "## Flowsheet considered in the example\n",
    "<img src=\"RO_flowsheet.png\" width=\"500\" height=\"200\">"
   ]
  },
  {
   "cell_type": "code",
   "execution_count": 1,
   "metadata": {},
   "outputs": [],
   "source": [
    "## Import core components \n",
    "# Pyomo cor ecomponents\n",
    "from pyomo.environ import (Param,Var, Constraint, TransformationFactory, Reals,    ConcreteModel,\n",
    "    value,assert_optimal_termination,\n",
    "    units as pyunits)\n",
    "from pyomo.network import Arc\n",
    "# Ideas core comoponents\n",
    "from idaes.core import FlowsheetBlock\n",
    "from idaes.core.util.scaling import calculate_scaling_factors, set_scaling_factor\n",
    "from idaes.core.util.model_statistics import degrees_of_freedom\n",
    "from idaes.core.solvers import get_solver\n",
    "from idaes.core.util.scaling import constraint_scaling_transform\n",
    "from idaes.core.util.initialization import propagate_state\n",
    "from idaes.models.unit_models import Feed\n",
    "# WaterTAP core components \n",
    "import watertap.property_models.seawater_prop_pack as properties\n",
    "from watertap.unit_models.reverse_osmosis_1D import (\n",
    "    ReverseOsmosis1D,\n",
    "    ConcentrationPolarizationType,\n",
    "    MassTransferCoefficient,\n",
    "    PressureChangeType,\n",
    ")\n",
    "from watertap.unit_models.pressure_changer import Pump\n"
   ]
  },
  {
   "cell_type": "markdown",
   "metadata": {},
   "source": [
    "### Build our flowsheet"
   ]
  },
  {
   "cell_type": "code",
   "execution_count": 2,
   "metadata": {},
   "outputs": [
    {
     "name": "stdout",
     "output_type": "stream",
     "text": [
      "2023-10-03 00:25:29 [WARNING] idaes.core.base.property_meta: DEPRECATED: The property name boiling_point_elevation_phase in\n",
      "property metadata is not a recognized standard property name defined\n",
      "in this PropertySet. Please refer to IDAES standard names in the IDAES\n",
      "documentation. You can use the define_custom_properties() rather than\n",
      "the add_properties() method to define metadata for this property. You\n",
      "can also use a different property set by calling the\n",
      "define_property_set() method.  (deprecated in 2.0.0, will be removed\n",
      "in (or after) 3.0.0)\n",
      "(called from d:\\onedrive\\nawi_work\\analysis\\watertap\\watertap-dev\\watertap\\property_models\\seawater_prop_pack.py:733)\n"
     ]
    }
   ],
   "source": [
    "\n",
    "m = ConcreteModel()\n",
    "# create IDAES flowsheet\n",
    "m.fs = FlowsheetBlock(dynamic=False)\n",
    "# create seawater property model\n",
    "m.fs.properties = properties.SeawaterParameterBlock()\n",
    "\n",
    "# build feed\n",
    "m.fs.feed = Feed(property_package=m.fs.properties)\n",
    "#build pump\n",
    "m.fs.pump = Pump(property_package=m.fs.properties)\n",
    "m.fs.RO = ReverseOsmosis1D(\n",
    "    property_package=m.fs.properties,\n",
    "    has_pressure_change=True,\n",
    "    pressure_change_type=PressureChangeType.calculated,\n",
    "    mass_transfer_coefficient=MassTransferCoefficient.calculated,\n",
    "    concentration_polarization_type=ConcentrationPolarizationType.calculated,\n",
    "    transformation_scheme=\"BACKWARD\",\n",
    "    transformation_method=\"dae.finite_difference\",\n",
    "    finite_elements=10,\n",
    ")\n",
    "# connect feed to pump\n",
    "m.fs.feed_to_pump = Arc(source=m.fs.feed.outlet, destination = m.fs.pump.inlet)\n",
    "#connect pump to RO unit\n",
    "m.fs.pump_to_ro = Arc(source=m.fs.pump.outlet, destination = m.fs.RO.inlet)\n",
    "TransformationFactory(\"network.expand_arcs\").apply_to(m)\n",
    "   \n"
   ]
  },
  {
   "cell_type": "markdown",
   "metadata": {},
   "source": [
    "### Set default values for flowsheet and calculate scaling factors    "
   ]
  },
  {
   "cell_type": "code",
   "execution_count": 3,
   "metadata": {},
   "outputs": [
    {
     "name": "stdout",
     "output_type": "stream",
     "text": [
      "2023-10-03 00:25:29 [WARNING] idaes.core.util.scaling: Missing scaling factor for fs.RO.feed_side.area\n"
     ]
    }
   ],
   "source": [
    "\n",
    "m.fs.feed.properties[0].temperature.fix(273 + 25)                      # temperature (K)\n",
    "m.fs.feed.properties[0].pressure.fix(101325)                           # pressure (Pa)\n",
    "m.fs.feed.properties[0].flow_mass_phase_comp['Liq', 'H2O'].fix(0.965)  # mass flowrate of H2O (kg/s)\n",
    "m.fs.feed.properties[0].flow_mass_phase_comp['Liq', 'TDS'].fix(0.035)  # mass flowrate of TDS (kg/s)\n",
    "m.fs.feed.properties[0].conc_mass_phase_comp[...] # construct concentration props\n",
    "m.fs.properties.set_default_scaling(\n",
    "    \"flow_mass_phase_comp\",\n",
    "    1/0.965,\n",
    "    index=(\"Liq\", \"H2O\"),\n",
    ")\n",
    "m.fs.properties.set_default_scaling(\n",
    "    \"flow_mass_phase_comp\",\n",
    "    1/0.035,\n",
    "    index=(\"Liq\", \"TDS\"),\n",
    ")\n",
    "# to help with initialization lets build OSM variable on feed block\n",
    "# which we can use to guess operating pressure for RO unit and set pump pressure during initialization\n",
    "m.fs.feed.properties[0].pressure_osm_phase[...]\n",
    "# define pump defaults\n",
    "m.fs.pump.efficiency_pump[0].fix(0.75)\n",
    "# scale work and pressures for the pump\n",
    "set_scaling_factor(m.fs.pump.control_volume.work, 1e-4)\n",
    "set_scaling_factor(m.fs.pump.control_volume.properties_out[0].pressure, 1e-5)\n",
    "set_scaling_factor(m.fs.pump.control_volume.properties_in[0].pressure, 1e-5)\n",
    "\n",
    "# to help with initalization lets build OSM variable on pump outlet\n",
    "# which we can use to guess operating pressure for RO unit \n",
    "\n",
    "# define RO default values for initialization \n",
    "# we opt to specify stage area, and inlet velocity\n",
    "# unfixing width and area\n",
    "# We also apply variable scaling as we set up each default parameters \n",
    "\n",
    "m.fs.RO.feed_side.velocity[0, 0].fix(0.1)\n",
    "\n",
    "m.fs.RO.area.fix(100)\n",
    "set_scaling_factor(m.fs.RO.area,1/50)\n",
    "m.fs.RO.length.unfix()\n",
    "set_scaling_factor(m.fs.RO.length, 0.1)\n",
    "m.fs.RO.width.unfix()\n",
    "set_scaling_factor(m.fs.RO.width, 0.1)\n",
    "\n",
    "# we need to specify RO permeate pressure\n",
    "m.fs.RO.permeate.pressure[0].fix(101325)\n",
    "# we need to specify default values for default mass transport correlation\n",
    "# and friction factor correlations \n",
    "m.fs.RO.feed_side.channel_height.fix(1 / 10 / 100)\n",
    "m.fs.RO.feed_side.spacer_porosity.fix(0.9)\n",
    "\n",
    "# Specify default A and B values, these are dfined in m/s at unit level. \n",
    "m.fs.RO.A_comp[0, \"H2O\"].fix(3 / (3600 * 1000 * 1e5))\n",
    "m.fs.RO.B_comp[0, \"TDS\"].fix(0.15 / (3600 * 1000))\n",
    "\n",
    "# calculate all the scailing factors \n",
    "calculate_scaling_factors(m)\n"
   ]
  },
  {
   "cell_type": "markdown",
   "metadata": {},
   "source": [
    "### Initialie feed and pump"
   ]
  },
  {
   "cell_type": "code",
   "execution_count": 4,
   "metadata": {},
   "outputs": [
    {
     "name": "stdout",
     "output_type": "stream",
     "text": [
      "2023-10-03 00:25:30 [INFO] idaes.init.fs.feed.properties: fs.feed.properties State Released.\n",
      "2023-10-03 00:25:30 [INFO] idaes.init.fs.feed: Initialization Complete.\n",
      "Osmotic pressure is 25.86985038210651 bar\n",
      "2023-10-03 00:25:30 [INFO] idaes.init.fs.pump.control_volume.properties_out: fs.pump.control_volume.properties_out State Released.\n",
      "2023-10-03 00:25:30 [INFO] idaes.init.fs.pump.control_volume: Initialization Complete\n",
      "2023-10-03 00:25:30 [INFO] idaes.init.fs.pump.control_volume.properties_in: fs.pump.control_volume.properties_in State Released.\n",
      "2023-10-03 00:25:30 [INFO] idaes.init.fs.pump: Initialization Complete: optimal - Optimal Solution Found\n"
     ]
    }
   ],
   "source": [
    "solver = get_solver() # get solver\n",
    "m.fs.feed.initialize(optarg=solver.options)\n",
    "propagate_state(m.fs.feed_to_pump)\n",
    "# get osmotic pressure\n",
    "osmotic_feed_pressure=value(m.fs.feed.properties[0].pressure_osm_phase['Liq'])\n",
    "print(\"Osmotic pressure is {} bar\".format(osmotic_feed_pressure/1e5))\n",
    "m.fs.pump.outlet.pressure[0].fix(osmotic_feed_pressure*1.5) \n",
    "m.fs.pump.initialize(optarg=solver.options)\n",
    "propagate_state(m.fs.pump_to_ro)"
   ]
  },
  {
   "cell_type": "markdown",
   "metadata": {},
   "source": [
    "### Initlaize ro model and solve"
   ]
  },
  {
   "cell_type": "code",
   "execution_count": 5,
   "metadata": {},
   "outputs": [
    {
     "name": "stdout",
     "output_type": "stream",
     "text": [
      "2023-10-03 00:25:30 [INFO] idaes.init.fs.RO.feed_side: Initialization Complete\n",
      "2023-10-03 00:25:30 [INFO] idaes.init.fs.RO.feed_side.properties: fs.RO.feed_side.properties State Released.\n",
      "2023-10-03 00:25:30 [INFO] idaes.init.fs.RO.feed_side.properties_interface: fs.RO.feed_side.properties_interface State Released.\n",
      "2023-10-03 00:25:30 [INFO] idaes.init.fs.RO.permeate_side: fs.RO.permeate_side State Released.\n",
      "2023-10-03 00:25:31 [INFO] idaes.init.fs.RO.mixed_permeate: fs.RO.mixed_permeate State Released.\n",
      "2023-10-03 00:25:31 [INFO] idaes.init.fs.RO: Initialization Complete: optimal - Optimal Solution Found\n",
      "We have 0 degrees of freedom and expect 0\n",
      "ipopt-watertap: Ipopt with user variable scaling and IDAES jacobian constraint scaling\n",
      "Ipopt 3.13.2: tol=1e-08\n",
      "constr_viol_tol=1e-08\n",
      "nlp_scaling_method=user-scaling\n",
      "bound_relax_factor=0.0\n",
      "\n",
      "\n",
      "******************************************************************************\n",
      "This program contains Ipopt, a library for large-scale nonlinear optimization.\n",
      " Ipopt is released as open source code under the Eclipse Public License (EPL).\n",
      "         For more information visit http://projects.coin-or.org/Ipopt\n",
      "\n",
      "This version of Ipopt was compiled from source code available at\n",
      "    https://github.com/IDAES/Ipopt as part of the Institute for the Design of\n",
      "    Advanced Energy Systems Process Systems Engineering Framework (IDAES PSE\n",
      "    Framework) Copyright (c) 2018-2019. See https://github.com/IDAES/idaes-pse.\n",
      "\n",
      "This version of Ipopt was compiled using HSL, a collection of Fortran codes\n",
      "    for large-scale scientific computation.  All technical papers, sales and\n",
      "    publicity material resulting from use of the HSL codes within IPOPT must\n",
      "    contain the following acknowledgement:\n",
      "        HSL, a collection of Fortran codes for large-scale scientific\n",
      "        computation. See http://www.hsl.rl.ac.uk.\n",
      "******************************************************************************\n",
      "\n",
      "This is Ipopt version 3.13.2, running with linear solver ma27.\n",
      "\n",
      "Number of nonzeros in equality constraint Jacobian...:     1995\n",
      "Number of nonzeros in inequality constraint Jacobian.:        0\n",
      "Number of nonzeros in Lagrangian Hessian.............:      818\n",
      "\n",
      "Total number of variables............................:      660\n",
      "                     variables with only lower bounds:      161\n",
      "                variables with lower and upper bounds:      411\n",
      "                     variables with only upper bounds:        0\n",
      "Total number of equality constraints.................:      660\n",
      "Total number of inequality constraints...............:        0\n",
      "        inequality constraints with only lower bounds:        0\n",
      "   inequality constraints with lower and upper bounds:        0\n",
      "        inequality constraints with only upper bounds:        0\n",
      "\n",
      "iter    objective    inf_pr   inf_du lg(mu)  ||d||  lg(rg) alpha_du alpha_pr  ls\n",
      "   0  0.0000000e+00 7.28e-12 1.00e+00  -1.0 0.00e+00    -  0.00e+00 0.00e+00   0\n",
      "\n",
      "Number of Iterations....: 0\n",
      "\n",
      "                                   (scaled)                 (unscaled)\n",
      "Objective...............:   0.0000000000000000e+00    0.0000000000000000e+00\n",
      "Dual infeasibility......:   0.0000000000000000e+00    0.0000000000000000e+00\n",
      "Constraint violation....:   2.0538930057922885e-14    7.2759576141834259e-12\n",
      "Complementarity.........:   0.0000000000000000e+00    0.0000000000000000e+00\n",
      "Overall NLP error.......:   2.0538930057922885e-14    7.2759576141834259e-12\n",
      "\n",
      "\n",
      "Number of objective function evaluations             = 1\n",
      "Number of objective gradient evaluations             = 1\n",
      "Number of equality constraint evaluations            = 1\n",
      "Number of inequality constraint evaluations          = 0\n",
      "Number of equality constraint Jacobian evaluations   = 1\n",
      "Number of inequality constraint Jacobian evaluations = 0\n",
      "Number of Lagrangian Hessian evaluations             = 0\n",
      "Total CPU secs in IPOPT (w/o function evaluations)   =      0.003\n",
      "Total CPU secs in NLP function evaluations           =      0.001\n",
      "\n",
      "EXIT: Optimal Solution Found.\n",
      "ipopt-watertap: Ipopt with user variable scaling and IDAES jacobian constraint scaling\n",
      "Ipopt 3.13.2: tol=1e-08\n",
      "constr_viol_tol=1e-08\n",
      "nlp_scaling_method=user-scaling\n",
      "bound_relax_factor=0.0\n",
      "\n",
      "\n",
      "******************************************************************************\n",
      "This program contains Ipopt, a library for large-scale nonlinear optimization.\n",
      " Ipopt is released as open source code under the Eclipse Public License (EPL).\n",
      "         For more information visit http://projects.coin-or.org/Ipopt\n",
      "\n",
      "This version of Ipopt was compiled from source code available at\n",
      "    https://github.com/IDAES/Ipopt as part of the Institute for the Design of\n",
      "    Advanced Energy Systems Process Systems Engineering Framework (IDAES PSE\n",
      "    Framework) Copyright (c) 2018-2019. See https://github.com/IDAES/idaes-pse.\n",
      "\n",
      "This version of Ipopt was compiled using HSL, a collection of Fortran codes\n",
      "    for large-scale scientific computation.  All technical papers, sales and\n",
      "    publicity material resulting from use of the HSL codes within IPOPT must\n",
      "    contain the following acknowledgement:\n",
      "        HSL, a collection of Fortran codes for large-scale scientific\n",
      "        computation. See http://www.hsl.rl.ac.uk.\n",
      "******************************************************************************\n",
      "\n",
      "This is Ipopt version 3.13.2, running with linear solver ma27.\n",
      "\n",
      "Number of nonzeros in equality constraint Jacobian...:     1999\n",
      "Number of nonzeros in inequality constraint Jacobian.:        0\n",
      "Number of nonzeros in Lagrangian Hessian.............:      821\n",
      "\n",
      "Total number of variables............................:      660\n",
      "                     variables with only lower bounds:      161\n",
      "                variables with lower and upper bounds:      411\n",
      "                     variables with only upper bounds:        0\n",
      "Total number of equality constraints.................:      660\n",
      "Total number of inequality constraints...............:        0\n",
      "        inequality constraints with only lower bounds:        0\n",
      "   inequality constraints with lower and upper bounds:        0\n",
      "        inequality constraints with only upper bounds:        0\n",
      "\n",
      "iter    objective    inf_pr   inf_du lg(mu)  ||d||  lg(rg) alpha_du alpha_pr  ls\n",
      "   0  0.0000000e+00 2.29e-01 1.00e+00  -1.0 0.00e+00    -  0.00e+00 0.00e+00   0\n",
      "   1  0.0000000e+00 8.06e+00 3.72e+02  -1.0 1.36e+02    -  4.38e-01 1.00e+00F  1\n",
      "   2  0.0000000e+00 6.22e-02 2.80e+02  -1.0 8.80e+00    -  8.40e-01 1.00e+00h  1\n",
      "   3  0.0000000e+00 6.89e-06 1.75e-01  -1.0 1.95e-01    -  9.90e-01 1.00e+00h  1\n",
      "   4  0.0000000e+00 4.55e-13 7.86e-05  -1.0 1.37e-04    -  9.90e-01 1.00e+00h  1\n",
      "\n",
      "Number of Iterations....: 4\n",
      "\n",
      "                                   (scaled)                 (unscaled)\n",
      "Objective...............:   0.0000000000000000e+00    0.0000000000000000e+00\n",
      "Dual infeasibility......:   0.0000000000000000e+00    0.0000000000000000e+00\n",
      "Constraint violation....:   4.5474735088646412e-13    4.5474735088646412e-13\n",
      "Complementarity.........:   0.0000000000000000e+00    0.0000000000000000e+00\n",
      "Overall NLP error.......:   4.5474735088646412e-13    4.5474735088646412e-13\n",
      "\n",
      "\n",
      "Number of objective function evaluations             = 6\n",
      "Number of objective gradient evaluations             = 5\n",
      "Number of equality constraint evaluations            = 6\n",
      "Number of inequality constraint evaluations          = 0\n",
      "Number of equality constraint Jacobian evaluations   = 5\n",
      "Number of inequality constraint Jacobian evaluations = 0\n",
      "Number of Lagrangian Hessian evaluations             = 4\n",
      "Total CPU secs in IPOPT (w/o function evaluations)   =      0.009\n",
      "Total CPU secs in NLP function evaluations           =      0.001\n",
      "\n",
      "EXIT: Optimal Solution Found.\n"
     ]
    }
   ],
   "source": [
    "\n",
    "m.fs.RO.initialize(optarg=solver.options)\n",
    "# Check degrees of freedom \n",
    "print('We have {} degrees of freedom and expect 0'.format(degrees_of_freedom(m)))\n",
    "assert degrees_of_freedom(m) == 0\n",
    "\n",
    "result =solver.solve(m, tee=True)\n",
    "assert_optimal_termination(result)\n",
    "m.fs.pump.outlet.pressure[0].unfix()\n",
    "m.fs.RO.recovery_vol_phase[0.0, \"Liq\"].fix(0.5)\n",
    "result =solver.solve(m, tee=True)\n",
    "assert_optimal_termination(result)"
   ]
  },
  {
   "cell_type": "markdown",
   "metadata": {},
   "source": [
    "### Create utility function to display RO performance"
   ]
  },
  {
   "cell_type": "code",
   "execution_count": 6,
   "metadata": {},
   "outputs": [
    {
     "name": "stdout",
     "output_type": "stream",
     "text": [
      "RO inlet pressure 57.33044272841423 bar\n",
      "RO water flux is 17.528530900263238 LMH\n",
      "RO rejection is 98.39773352709747 %\n",
      "RO A value is 3.0\n"
     ]
    }
   ],
   "source": [
    "def display_ro(m):\n",
    "    print('RO inlet pressure {} bar'.format(value(m.fs.RO.inlet.pressure[0]/1e5)))\n",
    "    print(\n",
    "            \"RO water flux is {} LMH\".format(value(m.fs.RO.flux_mass_phase_comp_avg[0, \"Liq\", \"H2O\"] * 3.6e3))\n",
    "        )\n",
    "\n",
    "    R=value((m.fs.RO.feed_side.properties[0.0,0.0].conc_mass_phase_comp[\"Liq\", \"TDS\"] - m.fs.RO.mixed_permeate[0].conc_mass_phase_comp[\"Liq\", \"TDS\"])/m.fs.RO.feed_side.properties[0.0,0.0].conc_mass_phase_comp[\"Liq\", \"TDS\"])*100\n",
    "    print(\n",
    "            \"RO rejection is {} %\".format(R)\n",
    "        )\n",
    "    print('RO A value is {}'.format(m.fs.RO.A_comp[0, \"H2O\"].value * (3600 * 1000 * 1e5)))\n",
    "display_ro(m)"
   ]
  },
  {
   "cell_type": "markdown",
   "metadata": {},
   "source": [
    "### Explore relationship between salinity and opertating pressure"
   ]
  },
  {
   "cell_type": "code",
   "execution_count": 7,
   "metadata": {},
   "outputs": [
    {
     "name": "stdout",
     "output_type": "stream",
     "text": [
      "Current concentration 35.82617901849218\n",
      "0\n",
      "30\n",
      "RO inlet pressure 48.30900273238345 bar\n",
      "RO water flux is 17.500915558732373 LMH\n",
      "RO rejection is 98.4061150595614 %\n",
      "RO A value is 3.0\n",
      "60\n",
      "RO inlet pressure 99.27044544373487 bar\n",
      "RO water flux is 17.650448673241428 LMH\n",
      "RO rejection is 98.38274889510836 %\n",
      "RO A value is 3.0\n",
      "90\n",
      "RO inlet pressure 164.85916568102377 bar\n",
      "RO water flux is 17.817666285333797 LMH\n",
      "RO rejection is 98.38522929465361 %\n",
      "RO A value is 3.0\n",
      "120\n",
      "RO inlet pressure 250.67639947814118 bar\n",
      "RO water flux is 18.00189251371421 LMH\n",
      "RO rejection is 98.39745995113158 %\n",
      "RO A value is 3.0\n",
      "150\n",
      "RO inlet pressure 362.1831645293517 bar\n",
      "RO water flux is 18.202702254772756 LMH\n",
      "RO rejection is 98.41419723904032 %\n",
      "RO A value is 3.0\n",
      "[30, 60, 90, 120, 150]\n",
      "[48.30900273238344, 99.27044544373486, 164.85916568102377, 250.67639947814115, 362.18316452935164]\n"
     ]
    }
   ],
   "source": [
    "m.fs.feed.properties[0].flow_mass_phase_comp['Liq','TDS'].unfix()\n",
    "print('Current concentration {}'.format(m.fs.feed.properties[0].conc_mass_phase_comp['Liq','TDS'].value))\n",
    "m.fs.feed.properties[0].conc_mass_phase_comp['Liq','TDS'].fix(35)\n",
    "\n",
    "print(degrees_of_freedom(m))\n",
    "assert degrees_of_freedom(m) == 0\n",
    "concentrations = [30,60,90,120,150]\n",
    "pressures = []\n",
    "for con in [30,60,90,120,150]:\n",
    "    m.fs.feed.properties[0].conc_mass_phase_comp['Liq','TDS'].fix(con)\n",
    "    print(con)\n",
    "    result =solver.solve(m, tee=False)\n",
    "    display_ro(m)\n",
    "    assert_optimal_termination(result)\n",
    "    pressures.append(m.fs.RO.inlet.pressure[0].value/1e5)\n",
    "\n",
    "print(concentrations)\n",
    "print(pressures)"
   ]
  },
  {
   "cell_type": "markdown",
   "metadata": {},
   "source": [
    "### Add relationship between A parameter and inlet pressure to account for compaction effects    \n",
    "\n",
    "For P<80 bar A=3 LMH/bar\n",
    "For P>80 A = A_ini*80/P_inlet  "
   ]
  },
  {
   "cell_type": "code",
   "execution_count": 8,
   "metadata": {},
   "outputs": [
    {
     "name": "stdout",
     "output_type": "stream",
     "text": [
      "A_pressure_constraint : Size=1, Index=None, Active=True\n",
      "    Key  : Lower : Body                                                                                                                                                                                                                                                     : Upper : Active\n",
      "    None :   0.0 : 360000000000.0*fs.RO.A_comp[0.0,H2O] - 0.5*(fs.A_var_initial + 8000000.0*fs.A_var_initial/fs.RO.feed_side.properties[0.0,0.0].pressure - ((fs.A_var_initial - 8000000.0*fs.A_var_initial/fs.RO.feed_side.properties[0.0,0.0].pressure)**2 + 1e-08)**0.5) :   0.0 :   True\n"
     ]
    }
   ],
   "source": [
    "# Imports smooth min and smooth max functions\n",
    "import idaes.core.util.math as idaesMath\n",
    "\n",
    "m.fs.A_var_initial=Var(initialize=3.0)\n",
    "m.fs.A_var_initial.fix()\n",
    "set_scaling_factor(m.fs.A_var_initial, 1/m.fs.A_var_initial.value)\n",
    "m.fs.RO.A_pressure_constraint=(\n",
    "    Constraint(expr=m.fs.RO.A_comp[0, \"H2O\"]*(3600 * 1000 * 1e5)==\n",
    "    idaesMath.smooth_min(m.fs.A_var_initial,(m.fs.A_var_initial*80*1e5/m.fs.RO.inlet.pressure[0]))))\n",
    "m.fs.RO.A_comp[0,'H2O'].unfix()\n",
    "m.fs.RO.A_pressure_constraint.pprint()"
   ]
  },
  {
   "cell_type": "markdown",
   "metadata": {},
   "source": [
    "### Verify that constraint produces expected outcomes "
   ]
  },
  {
   "cell_type": "code",
   "execution_count": 9,
   "metadata": {},
   "outputs": [
    {
     "name": "stdout",
     "output_type": "stream",
     "text": [
      "Pressure is 10.0 and A value is 2.9999999998809526\n",
      "Pressure is 80.0 and A value is 2.99995\n",
      "Pressure is 85.0 and A value is 2.823529397598041\n",
      "Pressure is 90.0 and A value is 2.6666666591666663\n",
      "Pressure is 100.0 and A value is 2.3999999958333333\n",
      "Pressure is 200.0 and A value is 1.1999999986111112\n",
      "Pressure is 300.0 and A value is 0.7999999988636362\n"
     ]
    }
   ],
   "source": [
    "# import method to calcualte variable from constraint, allows evaluation of our constraint \n",
    "from pyomo.util.calc_var_value import calculate_variable_from_constraint\n",
    "\n",
    "for pressure in [10,80,85,90,100,200,300]:\n",
    "    m.fs.RO.inlet.pressure[0]=pressure*1e5 # needs to be in kPa\n",
    "    calculate_variable_from_constraint(m.fs.RO.A_comp[0, \"H2O\"],m.fs.RO.A_pressure_constraint)\n",
    "    print('Pressure is {} and A value is {}'.format(value(m.fs.RO.inlet.pressure[0])/1e5,value(m.fs.RO.A_comp[0, \"H2O\"]*(3600 * 1000 * 1e5))))"
   ]
  },
  {
   "cell_type": "markdown",
   "metadata": {},
   "source": [
    "### Initalize value at operating pressure and solve model with new constraint"
   ]
  },
  {
   "cell_type": "code",
   "execution_count": 10,
   "metadata": {},
   "outputs": [
    {
     "name": "stdout",
     "output_type": "stream",
     "text": [
      "We have 0 degrees of freedom and expect 0\n",
      "ipopt-watertap: Ipopt with user variable scaling and IDAES jacobian constraint scaling\n",
      "Ipopt 3.13.2: tol=1e-08\n",
      "constr_viol_tol=1e-08\n",
      "nlp_scaling_method=user-scaling\n",
      "bound_relax_factor=0.0\n",
      "\n",
      "\n",
      "******************************************************************************\n",
      "This program contains Ipopt, a library for large-scale nonlinear optimization.\n",
      " Ipopt is released as open source code under the Eclipse Public License (EPL).\n",
      "         For more information visit http://projects.coin-or.org/Ipopt\n",
      "\n",
      "This version of Ipopt was compiled from source code available at\n",
      "    https://github.com/IDAES/Ipopt as part of the Institute for the Design of\n",
      "    Advanced Energy Systems Process Systems Engineering Framework (IDAES PSE\n",
      "    Framework) Copyright (c) 2018-2019. See https://github.com/IDAES/idaes-pse.\n",
      "\n",
      "This version of Ipopt was compiled using HSL, a collection of Fortran codes\n",
      "    for large-scale scientific computation.  All technical papers, sales and\n",
      "    publicity material resulting from use of the HSL codes within IPOPT must\n",
      "    contain the following acknowledgement:\n",
      "        HSL, a collection of Fortran codes for large-scale scientific\n",
      "        computation. See http://www.hsl.rl.ac.uk.\n",
      "******************************************************************************\n",
      "\n",
      "This is Ipopt version 3.13.2, running with linear solver ma27.\n",
      "\n",
      "Number of nonzeros in equality constraint Jacobian...:     2013\n",
      "Number of nonzeros in inequality constraint Jacobian.:        0\n",
      "Number of nonzeros in Lagrangian Hessian.............:      863\n",
      "\n",
      "Total number of variables............................:      661\n",
      "                     variables with only lower bounds:      162\n",
      "                variables with lower and upper bounds:      411\n",
      "                     variables with only upper bounds:        0\n",
      "Total number of equality constraints.................:      661\n",
      "Total number of inequality constraints...............:        0\n",
      "        inequality constraints with only lower bounds:        0\n",
      "   inequality constraints with lower and upper bounds:        0\n",
      "        inequality constraints with only upper bounds:        0\n",
      "\n",
      "iter    objective    inf_pr   inf_du lg(mu)  ||d||  lg(rg) alpha_du alpha_pr  ls\n",
      "   0  0.0000000e+00 1.06e-01 1.00e+00  -1.0 0.00e+00    -  0.00e+00 0.00e+00   0\n",
      "   1  0.0000000e+00 1.80e-02 1.22e+03  -1.0 1.12e+02    -  8.27e-01 1.00e+00H  1\n",
      "   2  0.0000000e+00 4.73e-07 8.56e-01  -1.0 6.41e-02    -  9.90e-01 1.00e+00h  1\n",
      "   3  0.0000000e+00 1.46e-11 1.90e-04  -1.0 2.98e-06    -  9.90e-01 1.00e+00h  1\n",
      "\n",
      "Number of Iterations....: 3\n",
      "\n",
      "                                   (scaled)                 (unscaled)\n",
      "Objective...............:   0.0000000000000000e+00    0.0000000000000000e+00\n",
      "Dual infeasibility......:   0.0000000000000000e+00    0.0000000000000000e+00\n",
      "Constraint violation....:   1.1368683772161603e-13    1.4551915228366852e-11\n",
      "Complementarity.........:   0.0000000000000000e+00    0.0000000000000000e+00\n",
      "Overall NLP error.......:   1.1368683772161603e-13    1.4551915228366852e-11\n",
      "\n",
      "\n",
      "Number of objective function evaluations             = 6\n",
      "Number of objective gradient evaluations             = 4\n",
      "Number of equality constraint evaluations            = 6\n",
      "Number of inequality constraint evaluations          = 0\n",
      "Number of equality constraint Jacobian evaluations   = 4\n",
      "Number of inequality constraint Jacobian evaluations = 0\n",
      "Number of Lagrangian Hessian evaluations             = 3\n",
      "Total CPU secs in IPOPT (w/o function evaluations)   =      0.011\n",
      "Total CPU secs in NLP function evaluations           =      0.000\n",
      "\n",
      "EXIT: Optimal Solution Found.\n",
      "ipopt-watertap: Ipopt with user variable scaling and IDAES jacobian constraint scaling\n",
      "Ipopt 3.13.2: tol=1e-08\n",
      "constr_viol_tol=1e-08\n",
      "nlp_scaling_method=user-scaling\n",
      "bound_relax_factor=0.0\n",
      "\n",
      "\n",
      "******************************************************************************\n",
      "This program contains Ipopt, a library for large-scale nonlinear optimization.\n",
      " Ipopt is released as open source code under the Eclipse Public License (EPL).\n",
      "         For more information visit http://projects.coin-or.org/Ipopt\n",
      "\n",
      "This version of Ipopt was compiled from source code available at\n",
      "    https://github.com/IDAES/Ipopt as part of the Institute for the Design of\n",
      "    Advanced Energy Systems Process Systems Engineering Framework (IDAES PSE\n",
      "    Framework) Copyright (c) 2018-2019. See https://github.com/IDAES/idaes-pse.\n",
      "\n",
      "This version of Ipopt was compiled using HSL, a collection of Fortran codes\n",
      "    for large-scale scientific computation.  All technical papers, sales and\n",
      "    publicity material resulting from use of the HSL codes within IPOPT must\n",
      "    contain the following acknowledgement:\n",
      "        HSL, a collection of Fortran codes for large-scale scientific\n",
      "        computation. See http://www.hsl.rl.ac.uk.\n",
      "******************************************************************************\n",
      "\n",
      "This is Ipopt version 3.13.2, running with linear solver ma27.\n",
      "\n",
      "Number of nonzeros in equality constraint Jacobian...:     2013\n",
      "Number of nonzeros in inequality constraint Jacobian.:        0\n",
      "Number of nonzeros in Lagrangian Hessian.............:      863\n",
      "\n",
      "Total number of variables............................:      661\n",
      "                     variables with only lower bounds:      162\n",
      "                variables with lower and upper bounds:      411\n",
      "                     variables with only upper bounds:        0\n",
      "Total number of equality constraints.................:      661\n",
      "Total number of inequality constraints...............:        0\n",
      "        inequality constraints with only lower bounds:        0\n",
      "   inequality constraints with lower and upper bounds:        0\n",
      "        inequality constraints with only upper bounds:        0\n",
      "\n",
      "iter    objective    inf_pr   inf_du lg(mu)  ||d||  lg(rg) alpha_du alpha_pr  ls\n",
      "   0  0.0000000e+00 1.34e-02 1.00e+00  -1.0 0.00e+00    -  0.00e+00 0.00e+00   0\n",
      "   1  0.0000000e+00 5.10e-04 4.49e+00  -1.0 1.07e-01    -  9.90e-01 1.00e+00h  1\n",
      "   2  0.0000000e+00 2.71e-08 1.56e-02  -1.0 1.07e-01    -  9.90e-01 1.00e+00h  1\n",
      "   3  0.0000000e+00 1.60e-13 4.26e-05  -1.0 7.24e-06    -  9.90e-01 1.00e+00h  1\n",
      "\n",
      "Number of Iterations....: 3\n",
      "\n",
      "                                   (scaled)                 (unscaled)\n",
      "Objective...............:   0.0000000000000000e+00    0.0000000000000000e+00\n",
      "Dual infeasibility......:   0.0000000000000000e+00    0.0000000000000000e+00\n",
      "Constraint violation....:   1.5956680421425062e-13    1.5956680421425062e-13\n",
      "Complementarity.........:   0.0000000000000000e+00    0.0000000000000000e+00\n",
      "Overall NLP error.......:   1.5956680421425062e-13    1.5956680421425062e-13\n",
      "\n",
      "\n",
      "Number of objective function evaluations             = 4\n",
      "Number of objective gradient evaluations             = 4\n",
      "Number of equality constraint evaluations            = 4\n",
      "Number of inequality constraint evaluations          = 0\n",
      "Number of equality constraint Jacobian evaluations   = 4\n",
      "Number of inequality constraint Jacobian evaluations = 0\n",
      "Number of Lagrangian Hessian evaluations             = 3\n",
      "Total CPU secs in IPOPT (w/o function evaluations)   =      0.009\n",
      "Total CPU secs in NLP function evaluations           =      0.000\n",
      "\n",
      "EXIT: Optimal Solution Found.\n",
      "RO inlet pressure 373.97202448418875 bar\n",
      "RO water flux is 18.202865476604885 LMH\n",
      "RO rejection is 98.43919776540704 %\n",
      "RO A value is 0.6417592330190324\n"
     ]
    }
   ],
   "source": [
    "# lets intialize the A value to our actual operating pressure \n",
    "m.fs.RO.inlet.pressure[0]=m.fs.pump.outlet.pressure[0].value \n",
    "calculate_variable_from_constraint(m.fs.RO.A_comp[0, \"H2O\"],m.fs.RO.A_pressure_constraint)\n",
    "\n",
    "print('We have {} degrees of freedom and expect 0'.format(degrees_of_freedom(m)))\n",
    "assert degrees_of_freedom(m) == 0\n",
    "\n",
    "result =solver.solve(m, tee=True)\n",
    "assert_optimal_termination(result)\n",
    "\n",
    "# solve for targer recovery\n",
    "m.fs.RO.recovery_vol_phase[0.0, \"Liq\"].fix(0.5)\n",
    "m.fs.pump.outlet.pressure[0].unfix()\n",
    "assert degrees_of_freedom(m) == 0\n",
    "\n",
    "result =solver.solve(m, tee=True)\n",
    "assert_optimal_termination(result)\n",
    "display_ro(m)"
   ]
  },
  {
   "cell_type": "markdown",
   "metadata": {},
   "source": [
    "### Increase pressure to observe decrease in A value "
   ]
  },
  {
   "cell_type": "code",
   "execution_count": 11,
   "metadata": {},
   "outputs": [
    {
     "name": "stdout",
     "output_type": "stream",
     "text": [
      "ipopt-watertap: Ipopt with user variable scaling and IDAES jacobian constraint scaling\n",
      "Ipopt 3.13.2: tol=1e-08\n",
      "constr_viol_tol=1e-08\n",
      "nlp_scaling_method=user-scaling\n",
      "bound_relax_factor=0.0\n",
      "\n",
      "\n",
      "******************************************************************************\n",
      "This program contains Ipopt, a library for large-scale nonlinear optimization.\n",
      " Ipopt is released as open source code under the Eclipse Public License (EPL).\n",
      "         For more information visit http://projects.coin-or.org/Ipopt\n",
      "\n",
      "This version of Ipopt was compiled from source code available at\n",
      "    https://github.com/IDAES/Ipopt as part of the Institute for the Design of\n",
      "    Advanced Energy Systems Process Systems Engineering Framework (IDAES PSE\n",
      "    Framework) Copyright (c) 2018-2019. See https://github.com/IDAES/idaes-pse.\n",
      "\n",
      "This version of Ipopt was compiled using HSL, a collection of Fortran codes\n",
      "    for large-scale scientific computation.  All technical papers, sales and\n",
      "    publicity material resulting from use of the HSL codes within IPOPT must\n",
      "    contain the following acknowledgement:\n",
      "        HSL, a collection of Fortran codes for large-scale scientific\n",
      "        computation. See http://www.hsl.rl.ac.uk.\n",
      "******************************************************************************\n",
      "\n",
      "This is Ipopt version 3.13.2, running with linear solver ma27.\n",
      "\n",
      "Number of nonzeros in equality constraint Jacobian...:     2008\n",
      "Number of nonzeros in inequality constraint Jacobian.:        0\n",
      "Number of nonzeros in Lagrangian Hessian.............:      860\n",
      "\n",
      "Exception of type: TOO_FEW_DOF in file \"IpIpoptApplication.cpp\" at line 926:\n",
      " Exception message: status != TOO_FEW_DEGREES_OF_FREEDOM evaluated false: Too few degrees of freedom (rethrown)!\n",
      "\n",
      "EXIT: Problem has too few degrees of freedom.\n",
      "WARNING: Loading a SolverResults object with a warning status into\n",
      "model.name=\"unknown\";\n",
      "    - termination condition: other\n",
      "    - message from solver: Too few degrees of freedom (rethrown)!\n"
     ]
    },
    {
     "ename": "RuntimeError",
     "evalue": "Solver failed to return an optimal solution. Solver status: warning, Termination condition: other",
     "output_type": "error",
     "traceback": [
      "\u001b[1;31m---------------------------------------------------------------------------\u001b[0m",
      "\u001b[1;31mRuntimeError\u001b[0m                              Traceback (most recent call last)",
      "\u001b[1;32m~\\AppData\\Local\\Temp\\ipykernel_14916\\1568214226.py\u001b[0m in \u001b[0;36m<cell line: 3>\u001b[1;34m()\u001b[0m\n\u001b[0;32m      1\u001b[0m \u001b[0mm\u001b[0m\u001b[1;33m.\u001b[0m\u001b[0mfs\u001b[0m\u001b[1;33m.\u001b[0m\u001b[0mpump\u001b[0m\u001b[1;33m.\u001b[0m\u001b[0moutlet\u001b[0m\u001b[1;33m.\u001b[0m\u001b[0mpressure\u001b[0m\u001b[1;33m[\u001b[0m\u001b[1;36m0\u001b[0m\u001b[1;33m]\u001b[0m\u001b[1;33m.\u001b[0m\u001b[0mfix\u001b[0m\u001b[1;33m(\u001b[0m\u001b[1;36m1e5\u001b[0m\u001b[1;33m*\u001b[0m\u001b[1;36m125\u001b[0m\u001b[1;33m)\u001b[0m \u001b[1;31m# 100 bar\u001b[0m\u001b[1;33m\u001b[0m\u001b[1;33m\u001b[0m\u001b[0m\n\u001b[0;32m      2\u001b[0m \u001b[0mresult\u001b[0m \u001b[1;33m=\u001b[0m\u001b[0msolver\u001b[0m\u001b[1;33m.\u001b[0m\u001b[0msolve\u001b[0m\u001b[1;33m(\u001b[0m\u001b[0mm\u001b[0m\u001b[1;33m,\u001b[0m \u001b[0mtee\u001b[0m\u001b[1;33m=\u001b[0m\u001b[1;32mTrue\u001b[0m\u001b[1;33m)\u001b[0m\u001b[1;33m\u001b[0m\u001b[1;33m\u001b[0m\u001b[0m\n\u001b[1;32m----> 3\u001b[1;33m \u001b[0massert_optimal_termination\u001b[0m\u001b[1;33m(\u001b[0m\u001b[0mresult\u001b[0m\u001b[1;33m)\u001b[0m\u001b[1;33m\u001b[0m\u001b[1;33m\u001b[0m\u001b[0m\n\u001b[0m\u001b[0;32m      4\u001b[0m \u001b[1;33m\u001b[0m\u001b[0m\n\u001b[0;32m      5\u001b[0m \u001b[0mdisplay_ro\u001b[0m\u001b[1;33m(\u001b[0m\u001b[0mm\u001b[0m\u001b[1;33m)\u001b[0m\u001b[1;33m\u001b[0m\u001b[1;33m\u001b[0m\u001b[0m\n",
      "\u001b[1;32md:\\miniconda\\envs\\watertap-dev\\lib\\site-packages\\pyomo\\opt\\results\\solver.py\u001b[0m in \u001b[0;36massert_optimal_termination\u001b[1;34m(results)\u001b[0m\n\u001b[0;32m    184\u001b[0m             )\n\u001b[0;32m    185\u001b[0m         )\n\u001b[1;32m--> 186\u001b[1;33m         \u001b[1;32mraise\u001b[0m \u001b[0mRuntimeError\u001b[0m\u001b[1;33m(\u001b[0m\u001b[0mmsg\u001b[0m\u001b[1;33m)\u001b[0m\u001b[1;33m\u001b[0m\u001b[1;33m\u001b[0m\u001b[0m\n\u001b[0m\u001b[0;32m    187\u001b[0m \u001b[1;33m\u001b[0m\u001b[0m\n\u001b[0;32m    188\u001b[0m \u001b[1;33m\u001b[0m\u001b[0m\n",
      "\u001b[1;31mRuntimeError\u001b[0m: Solver failed to return an optimal solution. Solver status: warning, Termination condition: other"
     ]
    }
   ],
   "source": [
    "m.fs.pump.outlet.pressure[0].fix(1e5*125) # 100 bar\n",
    "result =solver.solve(m, tee=True)\n",
    "assert_optimal_termination(result)\n",
    "\n",
    "display_ro(m)"
   ]
  },
  {
   "cell_type": "markdown",
   "metadata": {},
   "source": [
    "### Replacing an existing constraint with a new one\n",
    "\n",
    "A common uncertainty in membrane process is prediction of mass transport rate \n",
    "RO model uses a corelation derived by Guilen et al from CFD simulation of 2D RO flow channel with a circular spacers\n",
    "but a large number of other correlations exist \n",
    "\n",
    "Current corelation is  Sh = 0.45* (Re*Sc)^0.36 \n",
    "\n",
    "@self.Constraint(\n",
    "    self.flowsheet().config.time,\n",
    "    self.length_domain,\n",
    "    self.config.property_package.solute_set,\n",
    "    doc=\"Sherwood number\",\n",
    ")\n",
    "def eq_N_Sh_comp(b, t, x, j):\n",
    "    return (\n",
    "        b.N_Sh_comp[t, x, j]\n",
    "        == 0.46 * (b.N_Re[t, x] * b.N_Sc_comp[t, x, j]) ** 0.36\n",
    "    )\n",
    "\n",
    "An alternative corelation that could be used has been derived by Schock & Miquel [Desalination, 1987, 64, 339-352] from experiments. This corelation has been shown to be potentially more accurate then the Hoek correlation [Dudchenko et al. ACS ES&T Engineering, https://doi.org/10.1021/acsestengg.1c00496]\n",
    "\n",
    "Lets implement the Schock & Miquel correlation instead \n",
    "\n",
    "Sh = 0.065 * Re ^ 0.875 * Sc^ 0.33"
   ]
  },
  {
   "cell_type": "code",
   "execution_count": null,
   "metadata": {},
   "outputs": [],
   "source": [
    "# Deactivate old constraint \n",
    "m.fs.RO.feed_side.eq_N_Sh_comp.deactivate()\n",
    "m.fs.SH_adjustment=Var(initialize=1)\n",
    "m.fs.SH_adjustment.fix()\n",
    "@m.fs.RO.feed_side.Constraint(\n",
    "    [0],\n",
    "    m.fs.RO.length_domain,\n",
    "    m.fs.properties.solute_set,\n",
    "    doc=\"Sherwood number Schock & Miquel\",\n",
    ")\n",
    "def eq_N_Sh_comp_S_and_M(b, t, x, j):\n",
    "    return (\n",
    "        b.N_Sh_comp[t, x, j]\n",
    "        == (0.065 * b.N_Re[t, x]**0.875 * b.N_Sc_comp[t, x, j] ** 0.33) *m.fs.SH_adjustment\n",
    "    )\n"
   ]
  },
  {
   "cell_type": "markdown",
   "metadata": {},
   "source": [
    "### Intialize our new constraint, and solve "
   ]
  },
  {
   "cell_type": "code",
   "execution_count": null,
   "metadata": {},
   "outputs": [],
   "source": [
    "for sh in m.fs.RO.feed_side.N_Sh_comp:\n",
    "    old_sh_value=(m.fs.RO.feed_side.N_Sh_comp[sh].value)\n",
    "    calculate_variable_from_constraint(m.fs.RO.feed_side.N_Sh_comp[sh],m.fs.RO.feed_side.eq_N_Sh_comp_S_and_M[sh])\n",
    "    print('Old Sh {} New Sh value {}'.format(old_sh_value, m.fs.RO.feed_side.N_Sh_comp[sh].value))"
   ]
  },
  {
   "cell_type": "code",
   "execution_count": null,
   "metadata": {},
   "outputs": [],
   "source": [
    "m.fs.pump.outlet.pressure[0].fix(1e5*125) # 100 bar\\\n",
    "print('----------old result------------')\n",
    "display_ro(m)\n",
    "result =solver.solve(m, tee=False)\n",
    "assert_optimal_termination(result)\n",
    "print('----------new result------------')\n",
    "display_ro(m)"
   ]
  },
  {
   "cell_type": "markdown",
   "metadata": {},
   "source": [
    "### Lets explore hwo changing sherwood number impacts result"
   ]
  },
  {
   "cell_type": "code",
   "execution_count": null,
   "metadata": {},
   "outputs": [],
   "source": [
    "m.fs.SH_adjustment.fix(0.5)\n",
    "print('----------old result------------')\n",
    "display_ro(m)\n",
    "result =solver.solve(m, tee=False)\n",
    "assert_optimal_termination(result)\n",
    "print('----------new result 0.5 ------------')\n",
    "display_ro(m)\n",
    "m.fs.SH_adjustment.fix(0.25)\n",
    "result =solver.solve(m, tee=False)\n",
    "assert_optimal_termination(result)\n",
    "print('----------new result 0.1 ------------')\n",
    "display_ro(m)"
   ]
  }
 ],
 "metadata": {
  "kernelspec": {
   "display_name": "Python 3 (ipykernel)",
   "language": "python",
   "name": "python3"
  },
  "language_info": {
   "codemirror_mode": {
    "name": "ipython",
    "version": 3
   },
   "file_extension": ".py",
   "mimetype": "text/x-python",
   "name": "python",
   "nbconvert_exporter": "python",
   "pygments_lexer": "ipython3",
   "version": "3.9.16"
  }
 },
 "nbformat": 4,
 "nbformat_minor": 4
}
