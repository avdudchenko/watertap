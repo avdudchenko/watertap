{
 "cells": [
  {
   "cell_type": "markdown",
   "metadata": {
    "scrolled": true,
    "slideshow": {
     "slide_type": "slide"
    }
   },
   "source": [
    "\n",
    "# Incorporating OLI Calculations with WaterTAP\n",
    "\n",
    "#### Contact: Paul Vecchiarelli (paul.vecchiarelli@nrel.gov)\n",
    "\n",
    "This tutorial will demonstrate basic usage of OLI Cloud calls using our custom API tools."
   ]
  },
  {
   "cell_type": "markdown",
   "metadata": {
    "slideshow": {
     "slide_type": "slide"
    }
   },
   "source": [
    "## Rationale\n",
    "\n",
    " - Simulations for realistic water sources are mathematically complex: \n",
    " > $ Interactions \\ge Cations * Anions$\n",
    " - OLI improves WaterTAP approximations and offloads computational resources"
   ]
  },
  {
   "cell_type": "markdown",
   "metadata": {
    "slideshow": {
     "slide_type": "slide"
    }
   },
   "source": [
    "## Required OLI API Inputs\n",
    "\n",
    "\n",
    " - State variables (solute concentrations, temperature, pressure), which can beextracted from a state block\n",
    " \n",
    " - Login credentials\n",
    " \n",
    " - A chemistry (*.dbs) file\n",
    "     - establishes state variables, phases, etc. to be considered in flash calls"
   ]
  },
  {
   "cell_type": "code",
   "execution_count": null,
   "metadata": {
    "slideshow": {
     "slide_type": "slide"
    }
   },
   "outputs": [],
   "source": [
    "# used to specify state/convert variables\n",
    "from pyomo.environ import units as pyunits\n",
    "\n",
    "# used to build survey lists\n",
    "from numpy import linspace\n",
    "\n",
    "# used to execute OLI Cloud functions\n",
    "from watertap.tools.oli_api.flash import Flash\n",
    "from watertap.tools.oli_api.credentials import CredentialManager\n",
    "from watertap.tools.oli_api.client import OLIApi"
   ]
  },
  {
   "cell_type": "markdown",
   "metadata": {
    "slideshow": {
     "slide_type": "slide"
    }
   },
   "source": [
    "# 1. Specify State Variables.\n",
    "\n",
    "- This data is used to construct inputs to OLI Cloud"
   ]
  },
  {
   "cell_type": "code",
   "execution_count": null,
   "metadata": {
    "slideshow": {
     "slide_type": "subslide"
    }
   },
   "outputs": [],
   "source": [
    "state_vars = {\n",
    "    \"temperature\": 273.15,\n",
    "    \"pressure\": 101325,\n",
    "    \"components\": {\n",
    "        \"Na_+\": 1120,\n",
    "        \"K_+\": 15,\n",
    "        \"Ca_2+\": 150,\n",
    "        \"Mg_2+\": 33,\n",
    "        \"Cl_-\": 1750,\n",
    "        \"SO4_2-\": 260,\n",
    "        \"HCO3_-\": 250,\n",
    "        \"SiO2\": 30.5,\n",
    "        \"Ca[OH]2\": 0,\n",
    "        \"Mg[OH]2\": 0,\n",
    "        \"Na2CO3\": 0,\n",
    "    },\n",
    "    \"units\": {\n",
    "        \"temperature\": pyunits.K,\n",
    "        \"pressure\": pyunits.Pa,\n",
    "        \"components\": pyunits.mg / pyunits.L,\n",
    "    },\n",
    "}"
   ]
  },
  {
   "cell_type": "markdown",
   "metadata": {
    "slideshow": {
     "slide_type": "slide"
    }
   },
   "source": [
    "# 2. Initialize Flash Instance.\n",
    "\n",
    " - We will run most of our methods with this class"
   ]
  },
  {
   "cell_type": "code",
   "execution_count": null,
   "metadata": {},
   "outputs": [],
   "source": [
    "f = Flash()"
   ]
  },
  {
   "cell_type": "markdown",
   "metadata": {
    "slideshow": {
     "slide_type": "slide"
    }
   },
   "source": [
    "# 3. Get Survey Parameters.\n",
    "\n",
    " - In this example, we will generate a temperature sweep survey"
   ]
  },
  {
   "cell_type": "code",
   "execution_count": null,
   "metadata": {
    "scrolled": true,
    "slideshow": {
     "slide_type": "subslide"
    }
   },
   "outputs": [],
   "source": [
    "survey = f.build_survey(\n",
    "    {\"Ca[OH]2\": linspace(0, 1e3, 2),\n",
    "     \"Mg[OH]2\": linspace(0, 1e3, 2),\n",
    "     \"Na2CO3\": linspace(0, 1e3, 2),\n",
    "     \"Temperature\": linspace(0, 100, 2),\n",
    "     \"Pressure\": linspace(0, 1e5, 2)\n",
    "     },\n",
    "    get_oli_names=True,\n",
    "    file_name=\"test_survey\",\n",
    ")"
   ]
  },
  {
   "cell_type": "code",
   "execution_count": null,
   "metadata": {},
   "outputs": [],
   "source": [
    "# individual sample points can be accessed:\n",
    "survey_points = f.get_survey_sample_conditions(survey, range(len(list(survey.values())[0])))\n",
    "f.write_output(survey_points, \"test_survey_points\")"
   ]
  },
  {
   "cell_type": "markdown",
   "metadata": {
    "slideshow": {
     "slide_type": "slide"
    }
   },
   "source": [
    "# 4. Login to OLI Cloud.\n",
    "\n",
    "- The following code demonstrates an OLI Cloud login:"
   ]
  },
  {
   "cell_type": "code",
   "execution_count": null,
   "metadata": {
    "slideshow": {
     "slide_type": "fragment"
    }
   },
   "outputs": [],
   "source": [
    "try:\n",
    "    credential_manager = CredentialManager(\n",
    "        username=\"\",\n",
    "        password=\"\",\n",
    "        root_url=\"\",\n",
    "        auth_url=\"\",\n",
    "        access_keys=[],\n",
    "    )\n",
    "except (OSError, ConnectionError) as e:\n",
    "    print(e)\n",
    "    credential_manager = None"
   ]
  },
  {
   "cell_type": "markdown",
   "metadata": {
    "slideshow": {
     "slide_type": "slide"
    }
   },
   "source": [
    "# 5. Create *.dbs File and 6. Get Output"
   ]
  },
  {
   "cell_type": "code",
   "execution_count": null,
   "metadata": {
    "scrolled": false,
    "slideshow": {
     "slide_type": "fragment"
    }
   },
   "outputs": [],
   "source": [
    "if credential_manager:\n",
    "    with OLIApi(credential_manager) as oliapi:\n",
    "        # create a new DBS file\n",
    "        dbs_file_id = oliapi.get_dbs_file_id(\n",
    "            state_vars[\"components\"],\n",
    "            thermo_framework=\"MSE (H3O+ ion)\",\n",
    "            private_databanks=[\"XSC\"],\n",
    "            phases=[\"liquid1\", \"solid\"],\n",
    "            model_name=\"test\",\n",
    "        )\n",
    "        \n",
    "        # get a summary of the DBS file\n",
    "        file_summary = oliapi.get_dbs_file_summary(dbs_file_id)\n",
    "        \n",
    "        # save chemistry information for use in other systems\n",
    "        chemistry_info = file_summary[\"chemistry_info\"]\n",
    "        f.write_output(chemistry_info[\"result\"], \"chemistry_info\")\n",
    "        \n",
    "        # create water analysis input\n",
    "        initial_input = f.build_flash_calculation_input(\n",
    "            \"wateranalysis\",\n",
    "            state_vars,\n",
    "            file_name=\"test_water_analysis_input\",\n",
    "        )    \n",
    "        # run Water Analysis flash calculation survey as specified        \n",
    "        f.run_flash(\n",
    "            \"wateranalysis\",\n",
    "            oliapi,\n",
    "            dbs_file_id,\n",
    "            initial_input,\n",
    "            survey,\n",
    "            file_name=\"test_survey_output\"\n",
    "        )"
   ]
  },
  {
   "cell_type": "markdown",
   "metadata": {
    "slideshow": {
     "slide_type": "slide"
    }
   },
   "source": [
    "# 7. Extract Filtered Output\n",
    "\n",
    " - OLI's output is robust, so WaterTAP enables printing selected results:"
   ]
  },
  {
   "cell_type": "code",
   "execution_count": null,
   "metadata": {
    "slideshow": {
     "slide_type": "subslide"
    }
   },
   "outputs": [],
   "source": [
    "# extract properties from OLI flash survey output\n",
    "properties = [\n",
    "    \"prescalingTendencies\",\n",
    "    \"entropy\",\n",
    "    \"gibbsFreeEnergy\",\n",
    "    \"selfDiffusivities\",\n",
    "    \"molecularConcentration\",\n",
    "    \"kValuesMBased\",\n",
    "]\n",
    "\n",
    "f.extract_properties(\n",
    "    survey_output,\n",
    "    properties,\n",
    "    samples=range(4,8),\n",
    "    file_name=\"test_survey_output_extract\",\n",
    ")"
   ]
  }
 ],
 "metadata": {
  "celltoolbar": "Slideshow",
  "kernelspec": {
   "display_name": "Python 3 (ipykernel)",
   "language": "python",
   "name": "python3"
  },
  "language_info": {
   "codemirror_mode": {
    "name": "ipython",
    "version": 3
   },
   "file_extension": ".py",
   "mimetype": "text/x-python",
   "name": "python",
   "nbconvert_exporter": "python",
   "pygments_lexer": "ipython3",
   "version": "3.8.16"
  }
 },
 "nbformat": 4,
 "nbformat_minor": 2
}
