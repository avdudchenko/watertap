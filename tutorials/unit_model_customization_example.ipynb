{
 "cells": [
  {
   "cell_type": "markdown",
   "metadata": {},
   "source": [
    "# Tutorial on customizing unit models in WatertAP\n",
    "Demonstration how to modify existing unit models at flowsheet level\n",
    "\n",
    "## Dependencies\n",
    "* Python - Programming language\n",
    "* Pyomo - Python package for equation-oriented modeling\n",
    "* IDAES - Python package extending Pyomo for flowsheet modeling\n",
    "* WaterTAP - Unit models"
   ]
  },
  {
   "cell_type": "markdown",
   "metadata": {},
   "source": [
    "## Demonstration structure \n",
    "* Setting up basic RO flowsheet\n",
    "* Replace a fixed variable with an equation to study impact of variable performance metrics\n",
    "* Replace existing constraint with a new one for compartive analysis  "
   ]
  },
  {
   "cell_type": "markdown",
   "metadata": {},
   "source": [
    "## Flowsheet considered in the example\n",
    "<img src=\"RO_flowsheet.png\" width=\"500\" height=\"200\">"
   ]
  },
  {
   "cell_type": "markdown",
   "metadata": {},
   "source": [
    "### Import key modules"
   ]
  },
  {
   "cell_type": "code",
   "execution_count": null,
   "metadata": {},
   "outputs": [],
   "source": [
    "## Import core components \n",
    "# Pyomo cor ecomponents\n",
    "from pyomo.environ import (Param,Var, Constraint, TransformationFactory, Reals,    ConcreteModel,\n",
    "    value,assert_optimal_termination,\n",
    "    units as pyunits)\n",
    "from pyomo.network import Arc\n",
    "# Ideas core comoponents\n",
    "from idaes.core import FlowsheetBlock\n",
    "from idaes.core.util.scaling import calculate_scaling_factors, set_scaling_factor\n",
    "from idaes.core.util.model_statistics import degrees_of_freedom\n",
    "from idaes.core.solvers import get_solver\n",
    "from idaes.core.util.scaling import constraint_scaling_transform\n",
    "from idaes.core.util.initialization import propagate_state\n",
    "from idaes.models.unit_models import Feed\n",
    "# WaterTAP core components \n",
    "import watertap.property_models.seawater_prop_pack as properties\n",
    "from watertap.unit_models.reverse_osmosis_1D import (\n",
    "    ReverseOsmosis1D,\n",
    "    ConcentrationPolarizationType,\n",
    "    MassTransferCoefficient,\n",
    "    PressureChangeType,\n",
    ")\n",
    "from watertap.unit_models.pressure_changer import Pump\n"
   ]
  },
  {
   "cell_type": "markdown",
   "metadata": {},
   "source": [
    "### Build the flowsheet"
   ]
  },
  {
   "cell_type": "code",
   "execution_count": null,
   "metadata": {},
   "outputs": [],
   "source": [
    "\n",
    "m = ConcreteModel()\n",
    "# create IDAES flowsheet\n",
    "m.fs = FlowsheetBlock(dynamic=False)\n",
    "# create seawater property model\n",
    "m.fs.properties = properties.SeawaterParameterBlock()\n",
    "\n",
    "# build feed\n",
    "m.fs.feed = Feed(property_package=m.fs.properties)\n",
    "#build pump\n",
    "m.fs.pump = Pump(property_package=m.fs.properties)\n",
    "m.fs.RO = ReverseOsmosis1D(\n",
    "    property_package=m.fs.properties,\n",
    "    has_pressure_change=True,\n",
    "    pressure_change_type=PressureChangeType.calculated,\n",
    "    mass_transfer_coefficient=MassTransferCoefficient.calculated,\n",
    "    concentration_polarization_type=ConcentrationPolarizationType.calculated,\n",
    "    transformation_scheme=\"BACKWARD\",\n",
    "    transformation_method=\"dae.finite_difference\",\n",
    "    finite_elements=10,\n",
    ")\n",
    "# connect feed to pump\n",
    "m.fs.feed_to_pump = Arc(source=m.fs.feed.outlet, destination = m.fs.pump.inlet)\n",
    "#connect pump to RO unit\n",
    "m.fs.pump_to_ro = Arc(source=m.fs.pump.outlet, destination = m.fs.RO.inlet)\n",
    "TransformationFactory(\"network.expand_arcs\").apply_to(m) \n"
   ]
  },
  {
   "cell_type": "markdown",
   "metadata": {},
   "source": [
    "### Set default values and calculate scaling factors for flowsheet   "
   ]
  },
  {
   "cell_type": "code",
   "execution_count": null,
   "metadata": {},
   "outputs": [],
   "source": [
    "\n",
    "m.fs.feed.properties[0].temperature.fix(273 + 25)                      # temperature (K)\n",
    "m.fs.feed.properties[0].pressure.fix(101325)                           # pressure (Pa)\n",
    "m.fs.feed.properties[0].flow_mass_phase_comp['Liq', 'H2O'].fix(0.965)  # mass flowrate of H2O (kg/s)\n",
    "m.fs.feed.properties[0].flow_mass_phase_comp['Liq', 'TDS'].fix(0.035)  # mass flowrate of TDS (kg/s)\n",
    "m.fs.feed.properties[0].conc_mass_phase_comp[...] # construct concentration props\n",
    "m.fs.properties.set_default_scaling(\n",
    "    \"flow_mass_phase_comp\",\n",
    "    1/0.965,\n",
    "    index=(\"Liq\", \"H2O\"),\n",
    ")\n",
    "m.fs.properties.set_default_scaling(\n",
    "    \"flow_mass_phase_comp\",\n",
    "    1/0.035,\n",
    "    index=(\"Liq\", \"TDS\"),\n",
    ")\n",
    "# to help with initialization lets build OSM variable on feed block\n",
    "# which we can use to guess operating pressure for RO unit and set pump pressure during initialization\n",
    "m.fs.feed.properties[0].pressure_osm_phase[...]\n",
    "# define pump defaults\n",
    "m.fs.pump.efficiency_pump[0].fix(0.75)\n",
    "# scale work and pressures for the pump\n",
    "set_scaling_factor(m.fs.pump.control_volume.work, 1e-4)\n",
    "set_scaling_factor(m.fs.pump.control_volume.properties_out[0].pressure, 1e-5)\n",
    "set_scaling_factor(m.fs.pump.control_volume.properties_in[0].pressure, 1e-5)\n",
    "\n",
    "# to help with initalization lets build OSM variable on pump outlet\n",
    "# which we can use to guess operating pressure for RO unit \n",
    "\n",
    "# define RO default values for initialization \n",
    "# we opt to specify stage area, and inlet velocity\n",
    "# unfixing width and area\n",
    "# We also apply variable scaling as we set up each default parameters \n",
    "\n",
    "m.fs.RO.feed_side.velocity[0, 0].fix(0.1)\n",
    "\n",
    "m.fs.RO.area.fix(100)\n",
    "set_scaling_factor(m.fs.RO.area,1/50)\n",
    "m.fs.RO.length.unfix()\n",
    "set_scaling_factor(m.fs.RO.length, 0.1)\n",
    "m.fs.RO.width.unfix()\n",
    "set_scaling_factor(m.fs.RO.width, 0.1)\n",
    "\n",
    "# we need to specify RO permeate pressure\n",
    "m.fs.RO.permeate.pressure[0].fix(101325)\n",
    "# we need to specify default values for default mass transport correlation\n",
    "# and friction factor correlations \n",
    "m.fs.RO.feed_side.channel_height.fix(1 / 10 / 100)\n",
    "m.fs.RO.feed_side.spacer_porosity.fix(0.9)\n",
    "\n",
    "# Specify default A and B values, these are dfined in m/s at unit level. \n",
    "m.fs.RO.A_comp[0, \"H2O\"].fix(3 / (3600 * 1000 * 1e5))\n",
    "m.fs.RO.B_comp[0, \"TDS\"].fix(0.15 / (3600 * 1000))\n",
    "\n",
    "# calculate all the scailing factors \n",
    "calculate_scaling_factors(m)\n"
   ]
  },
  {
   "cell_type": "markdown",
   "metadata": {},
   "source": [
    "### Initialize feed and pump"
   ]
  },
  {
   "cell_type": "code",
   "execution_count": null,
   "metadata": {},
   "outputs": [],
   "source": [
    "solver = get_solver() # get solver\n",
    "m.fs.feed.initialize(optarg=solver.options)\n",
    "propagate_state(m.fs.feed_to_pump)\n",
    "# get osmotic pressure\n",
    "osmotic_feed_pressure=value(m.fs.feed.properties[0].pressure_osm_phase['Liq'])\n",
    "print(\"Osmotic pressure is {} bar\".format(osmotic_feed_pressure/1e5))\n",
    "m.fs.pump.outlet.pressure[0].fix(osmotic_feed_pressure*1.5) \n",
    "m.fs.pump.initialize(optarg=solver.options)\n",
    "propagate_state(m.fs.pump_to_ro)\n",
    "m.fs.RO.initialize(optarg=solver.options)"
   ]
  },
  {
   "cell_type": "markdown",
   "metadata": {},
   "source": [
    "### Solve box problem"
   ]
  },
  {
   "cell_type": "code",
   "execution_count": null,
   "metadata": {},
   "outputs": [],
   "source": [
    "\n",
    "# Check degrees of freedom \n",
    "print('We have {} degrees of freedom and expect 0'.format(degrees_of_freedom(m)))\n",
    "assert degrees_of_freedom(m) == 0\n",
    "# Solve box problem at initialized state \n",
    "result =solver.solve(m, tee=True)\n",
    "assert_optimal_termination(result)\n",
    "\n",
    "# apply operating conditions and solve again\n",
    "m.fs.pump.outlet.pressure[0].unfix()\n",
    "m.fs.RO.recovery_vol_phase[0.0, \"Liq\"].fix(0.5)\n",
    "print('We have {} degrees of freedom and expect 0'.format(degrees_of_freedom(m)))\n",
    "assert degrees_of_freedom(m) == 0\n",
    "\n",
    "result =solver.solve(m, tee=True)\n",
    "assert_optimal_termination(result)\n",
    "# lets check current solution \n",
    "m.fs.RO.report()"
   ]
  },
  {
   "cell_type": "markdown",
   "metadata": {},
   "source": [
    "### Explore relationship between salinity and opertating pressure"
   ]
  },
  {
   "cell_type": "code",
   "execution_count": null,
   "metadata": {},
   "outputs": [],
   "source": [
    "m.fs.feed.properties[0].flow_mass_phase_comp['Liq','TDS'].unfix()\n",
    "print('Current concentration {}'.format(m.fs.feed.properties[0].conc_mass_phase_comp['Liq','TDS'].value))\n",
    "m.fs.feed.properties[0].conc_mass_phase_comp['Liq','TDS'].fix(35)\n",
    "\n",
    "print(degrees_of_freedom(m))\n",
    "assert degrees_of_freedom(m) == 0\n",
    "concentrations = [30,60,90,120,150]\n",
    "pressures = []\n",
    "for con in concentrations:\n",
    "    m.fs.feed.properties[0].conc_mass_phase_comp['Liq','TDS'].fix(con)\n",
    "    result =solver.solve(m, tee=False)\n",
    "    assert_optimal_termination(result)\n",
    "    pressures.append(m.fs.RO.inlet.pressure[0].value/1e5)\n"
   ]
  },
  {
   "cell_type": "markdown",
   "metadata": {},
   "source": [
    "## Plot salinity effect on result"
   ]
  },
  {
   "cell_type": "code",
   "execution_count": null,
   "metadata": {},
   "outputs": [],
   "source": [
    "import matplotlib.pyplot as plt\n",
    "fig, ax = plt.subplots()\n",
    "ax.plot(concentrations,pressures)\n",
    "ax.set(xlabel='Concentration (g/L)',ylabel='Pressure (bar)')\n",
    "plt.show()"
   ]
  },
  {
   "cell_type": "markdown",
   "metadata": {},
   "source": [
    "## Add relationship between A parameter and inlet pressure to account for compaction effects    \n",
    "\n",
    "For P<65 bar A=3 LMH/bar\n",
    "For P>65 A = 3 *65/Inlet pressure"
   ]
  },
  {
   "cell_type": "code",
   "execution_count": null,
   "metadata": {},
   "outputs": [],
   "source": [
    "# Imports smooth min and smooth max functions\n",
    "import idaes.core.util.math as idaesMath\n",
    "\n",
    "# define our default A value \n",
    "m.fs.A_var_initial=Var(initialize=3.0)\n",
    "m.fs.A_var_initial.fix()\n",
    "set_scaling_factor(m.fs.A_var_initial, 1/m.fs.A_var_initial.value)\n",
    "\n",
    "# define constraint that relates A value to P\n",
    "m.fs.RO.A_pressure_constraint=(\n",
    "    Constraint(expr=m.fs.RO.A_comp[0, \"H2O\"]*(3600 * 1000 * 1e5)==\n",
    "    idaesMath.smooth_min(m.fs.A_var_initial,(m.fs.A_var_initial*(65*1e5/m.fs.RO.inlet.pressure[0])))))\n",
    "    \n",
    "m.fs.RO.A_comp[0,'H2O'].unfix()\n",
    "m.fs.RO.A_pressure_constraint.pprint()"
   ]
  },
  {
   "cell_type": "markdown",
   "metadata": {},
   "source": [
    "### Verify that constraint produces expected outcomes "
   ]
  },
  {
   "cell_type": "code",
   "execution_count": null,
   "metadata": {},
   "outputs": [],
   "source": [
    "# import method to calcualte variable from constraint, allows evaluation of our constraint \n",
    "from pyomo.util.calc_var_value import calculate_variable_from_constraint\n",
    "import numpy as np\n",
    "\n",
    "pressures_for_testing=np.linspace(10,350,100)\n",
    "A_vals=[]\n",
    "\n",
    "for pressure in pressures_for_testing:\n",
    "    m.fs.RO.inlet.pressure[0]=pressure*1e5 # needs to be in kPa\n",
    "    calculate_variable_from_constraint(m.fs.RO.A_comp[0, \"H2O\"],m.fs.RO.A_pressure_constraint)\n",
    "    A_vals.append(m.fs.RO.A_comp[0, \"H2O\"].value*(3600 * 1000 * 1e5))\n",
    "fig, ax = plt.subplots()\n",
    "ax.plot(pressures_for_testing,A_vals)\n",
    "ax.set(xlabel='Concentration (g/L)',ylabel='A value (LMH/bar)')\n",
    "plt.show()"
   ]
  },
  {
   "cell_type": "markdown",
   "metadata": {},
   "source": [
    "### Initalize A value at operating pressure and solve model with new constraint"
   ]
  },
  {
   "cell_type": "code",
   "execution_count": null,
   "metadata": {},
   "outputs": [],
   "source": [
    "# lets initialize the A value to our actual operating pressure \n",
    "m.fs.RO.inlet.pressure[0]=m.fs.pump.outlet.pressure[0].value \n",
    "# Calculate the unkonw value of A at specified pressure form our constraint \n",
    "calculate_variable_from_constraint(m.fs.RO.A_comp[0, \"H2O\"],m.fs.RO.A_pressure_constraint)\n",
    "\n",
    "\n",
    "print('We have {} degrees of freedom and expect 0'.format(degrees_of_freedom(m)))\n",
    "assert degrees_of_freedom(m) == 0\n",
    "# Solve model with new constraint\n",
    "result =solver.solve(m, tee=False)\n",
    "assert_optimal_termination(result)\n",
    "\n",
    "# Explore how performance changes across feed concentrations \n",
    "concentrations = [30,60,90,120,150]\n",
    "pressures_with_a_loss = []\n",
    "actual_a=[]\n",
    "for con in concentrations:\n",
    "    m.fs.feed.properties[0].conc_mass_phase_comp['Liq','TDS'].fix(con)\n",
    "    result =solver.solve(m, tee=False)\n",
    "    assert_optimal_termination(result)\n",
    "    pressures_with_a_loss.append(m.fs.RO.inlet.pressure[0].value/1e5)\n",
    "    actual_a.append(m.fs.RO.A_comp[0, \"H2O\"].value*(3600 * 1000 * 1e5))\n",
    "    print(\"Solved con {}\".format(con))\n"
   ]
  },
  {
   "cell_type": "markdown",
   "metadata": {},
   "source": [
    "### Plot how operating pressure and A value changed during RO operation"
   ]
  },
  {
   "cell_type": "code",
   "execution_count": null,
   "metadata": {},
   "outputs": [],
   "source": [
    "\n",
    "fig, ax = plt.subplots()\n",
    "ax.plot(concentrations,pressures, label='Fixed A')\n",
    "ax.plot(concentrations,pressures_with_a_loss, label='A as function of pressure')\n",
    "ax.set(xlabel='Concentration (g/L)',ylabel='Pressure (bar)')\n",
    "ax.legend()\n",
    "fig, ax = plt.subplots()\n",
    "ax.plot(concentrations,actual_a)\n",
    "ax.set(xlabel='Concentration (g/L)',ylabel='A value  (LMH/bar)')\n",
    "plt.show()"
   ]
  },
  {
   "cell_type": "markdown",
   "metadata": {},
   "source": [
    "### Replacing an existing constraint with a new one\n",
    "\n",
    "A common uncertainty in membrane process is prediction of mass transport rates.\n",
    "\n",
    "Current WaterTap model uses a corelation derived by Guillen et al from CFD simulation of 2D flow in RO channel with a circular spacers. The used corelation is shown below, as well as its implementation in RO model.\n",
    "\n",
    "Current corelation is  Sh = 0.45*(Re*Sc)^0.36 \n",
    "\n",
    "    @self.Constraint(\n",
    "        self.flowsheet().config.time,\n",
    "        self.length_domain,\n",
    "        self.config.property_package.solute_set,\n",
    "        doc=\"Sherwood number\",\n",
    "    )\n",
    "    def eq_N_Sh_comp(b, t, x, j):\n",
    "        return (\n",
    "            b.N_Sh_comp[t, x, j]\n",
    "            == 0.46 * (b.N_Re[t, x] * b.N_Sc_comp[t, x, j]) ** 0.36\n",
    "        )\n",
    "\n",
    "An alternative corelation that could be used has been derived by Schock & Miquel [Desalination, 1987, 64, 339-352] from experiments. This corelation has been shown to be potentially more accurate then the Guilen correlation [Dudchenko et al. ACS ES&T Engineering, https://doi.org/10.1021/acsestengg.1c00496]\n",
    "\n",
    "Sh = 0.065 * Re^0.875 * Sc^0.33\n",
    "\n",
    "Lets implement the Schock & Miquel correlation instead and observe its overall impact on process design.\n"
   ]
  },
  {
   "cell_type": "code",
   "execution_count": null,
   "metadata": {},
   "outputs": [],
   "source": [
    "# adding a variable so we can adjust magnitude of Sherwood correlation \n",
    "m.fs.SH_adjustment=Var(initialize=1)\n",
    "m.fs.SH_adjustment.fix()\n",
    "\n",
    "# defining new sherwood correlation \n",
    "@m.fs.RO.feed_side.Constraint(\n",
    "    [0],\n",
    "    m.fs.RO.length_domain,\n",
    "    m.fs.properties.solute_set,\n",
    "    doc=\"Sherwood number Schock & Miquel\",\n",
    ")\n",
    "def eq_N_Sh_comp_S_and_M(b, t, x, j):\n",
    "    return (\n",
    "        b.N_Sh_comp[t, x, j]\n",
    "        == (0.065 * b.N_Re[t, x]**0.875 * b.N_Sc_comp[t, x, j] ** 0.33) *m.fs.SH_adjustment\n",
    "    )\n"
   ]
  },
  {
   "cell_type": "markdown",
   "metadata": {},
   "source": [
    "### Check output of our new constraint against old "
   ]
  },
  {
   "cell_type": "code",
   "execution_count": null,
   "metadata": {},
   "outputs": [],
   "source": [
    "Guillen_sh=[]\n",
    "Schock_sh=[]\n",
    "module_position=[]\n",
    "\n",
    "# grab values estimated for old correlation \n",
    "for (t,x,j) in m.fs.RO.feed_side.N_Sh_comp:\n",
    "    module_position.append(x)    \n",
    "    Guillen_sh.append(m.fs.RO.feed_side.N_Sh_comp[t,x,j].value)\n",
    "# grab values estimated for new correlation \n",
    "for (t,x,j) in m.fs.RO.feed_side.N_Sh_comp:\n",
    "    calculate_variable_from_constraint(m.fs.RO.feed_side.N_Sh_comp[t,x,j],m.fs.RO.feed_side.eq_N_Sh_comp_S_and_M[t,x,j])\n",
    "    Schock_sh.append(m.fs.RO.feed_side.N_Sh_comp[t,x,j].value)\n",
    "\n",
    "fig, ax = plt.subplots()\n",
    "ax.plot(module_position,Guillen_sh, label='Guillen correlation')\n",
    "ax.plot(module_position,Schock_sh, label='Schock & Miquel correlation')\n",
    "ax.set(xlabel='Concentration (g/L)',ylabel='Sherwood number (-)')\n",
    "ax.legend()"
   ]
  },
  {
   "cell_type": "markdown",
   "metadata": {},
   "source": [
    "### Solve the model with new constraint"
   ]
  },
  {
   "cell_type": "code",
   "execution_count": null,
   "metadata": {},
   "outputs": [],
   "source": [
    "# Because the old and new Sherwood numbers have similar values (With 10x of each other)\n",
    "# it is not necessary to initialize them\n",
    "\n",
    "# Solve model with old correlation \n",
    "# make sure old constraint is active\n",
    "m.fs.RO.feed_side.eq_N_Sh_comp.activate()\n",
    "# make sure new constraint is NOT active\n",
    "m.fs.RO.feed_side.eq_N_Sh_comp_S_and_M.deactivate()\n",
    "print('We have {} degrees of freedom and expect 0'.format(degrees_of_freedom(m)))\n",
    "assert degrees_of_freedom(m) == 0\n",
    "result = solver.solve(m, tee=False)\n",
    "water_flux_Guillen=[]\n",
    "salt_flux_Guillen=[]\n",
    "module_position=[]\n",
    "# get water and salt flux estimated using Gulien correlation \n",
    "for (t,x,p,j) in m.fs.RO.flux_mass_phase_comp:\n",
    "    if j=='H2O':\n",
    "        water_flux_Guillen.append(m.fs.RO.flux_mass_phase_comp[t,x,p,j].value*3600)\n",
    "    if j=='TDS':\n",
    "        salt_flux_Guillen.append(m.fs.RO.flux_mass_phase_comp[t,x,p,j].value*3600)\n",
    "        module_position.append(x)\n",
    "\n",
    "# make sure old constraint is NOT active\n",
    "m.fs.RO.feed_side.eq_N_Sh_comp.deactivate()\n",
    "# make sure new constraint is active\n",
    "m.fs.RO.feed_side.eq_N_Sh_comp_S_and_M.activate()\n",
    "print('We have {} degrees of freedom and expect 0'.format(degrees_of_freedom(m)))\n",
    "assert degrees_of_freedom(m) == 0\n",
    "result = solver.solve(m, tee=False)\n",
    "assert_optimal_termination(result)\n",
    "water_flux_Schock=[]\n",
    "salt_flux_Schock=[]\n",
    "for (t,x,p,j) in m.fs.RO.flux_mass_phase_comp:\n",
    "    if j=='H2O':\n",
    "        water_flux_Schock.append(m.fs.RO.flux_mass_phase_comp[t,x,p,j].value*3600)\n",
    "    if j=='TDS':\n",
    "        salt_flux_Schock.append(m.fs.RO.flux_mass_phase_comp[t,x,p,j].value*3600)\n",
    "\n"
   ]
  },
  {
   "cell_type": "markdown",
   "metadata": {},
   "source": [
    "## Plot comparison of water and salt flux estimated using Guillen and Schock & Miquel correlation"
   ]
  },
  {
   "cell_type": "code",
   "execution_count": null,
   "metadata": {},
   "outputs": [],
   "source": [
    "\n",
    "\n",
    "fig, ax = plt.subplots()\n",
    "ax.plot(module_position,water_flux_Guillen, label='Guillen correlation')\n",
    "ax.plot(module_position,water_flux_Schock, label='Schock & Miquel correlation')\n",
    "ax.set(xlabel='Concentration (g/L)',ylabel='Water flux (LMH)')\n",
    "ax.legend()\n",
    "fig, ax = plt.subplots()\n",
    "ax.plot(module_position,salt_flux_Guillen, label='Guillen correlation')\n",
    "ax.plot(module_position,salt_flux_Schock, label='Schock & Miquel correlation')\n",
    "ax.set(xlabel='Concentration (g/L)',ylabel='Salt flux (LMH)')\n",
    "ax.legend()\n",
    "plt.show()"
   ]
  },
  {
   "cell_type": "markdown",
   "metadata": {},
   "source": [
    "### Lets explore how changing sherwood number impacts result"
   ]
  },
  {
   "cell_type": "code",
   "execution_count": null,
   "metadata": {},
   "outputs": [],
   "source": [
    "\n",
    "adjustments = np.linspace(1,2,5)\n",
    "pressure = []\n",
    "avg_sh =[] \n",
    "for adj in adjustments:\n",
    "    m.fs.SH_adjustment.fix(adj)\n",
    "    assert degrees_of_freedom(m) == 0\n",
    "    result =solver.solve(m, tee=False)\n",
    "    pressure.append(m.fs.RO.inlet.pressure[0].value/1e5)\n",
    "    sh_avg=np.average([m.fs.RO.feed_side.N_Sh_comp[t,x,j].value for (t,x,j) in m.fs.RO.feed_side.N_Sh_comp])\n",
    "    avg_sh.append(sh_avg)\n",
    "    print(\"Solved adj {}\".format(adj))"
   ]
  },
  {
   "cell_type": "markdown",
   "metadata": {},
   "source": [
    "## Plot change in operating pressure vs. increase in overall mass transport rate "
   ]
  },
  {
   "cell_type": "code",
   "execution_count": null,
   "metadata": {},
   "outputs": [],
   "source": [
    "fig, ax = plt.subplots()\n",
    "ax.plot(adjustments,pressure)\n",
    "ax.set(xlabel='Sh adjustment',ylabel='Pressure (bar)')\n",
    "fig, ax = plt.subplots()\n",
    "ax.plot(adjustments,avg_sh)\n",
    "ax.set(xlabel='Sh adjustment',ylabel='Average Sh (-)')\n",
    "plt.show()"
   ]
  }
 ],
 "metadata": {
  "kernelspec": {
   "display_name": "Python 3 (ipykernel)",
   "language": "python",
   "name": "python3"
  },
  "language_info": {
   "codemirror_mode": {
    "name": "ipython",
    "version": 3
   },
   "file_extension": ".py",
   "mimetype": "text/x-python",
   "name": "python",
   "nbconvert_exporter": "python",
   "pygments_lexer": "ipython3",
   "version": "3.9.16"
  }
 },
 "nbformat": 4,
 "nbformat_minor": 4
}
